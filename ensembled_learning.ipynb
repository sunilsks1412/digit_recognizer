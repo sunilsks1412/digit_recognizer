{
  "nbformat": 4,
  "nbformat_minor": 0,
  "metadata": {
    "colab": {
      "name": "ensembled_learning",
      "provenance": []
    },
    "kernelspec": {
      "name": "python3",
      "display_name": "Python 3"
    },
    "language_info": {
      "name": "python"
    },
    "accelerator": "GPU",
    "gpuClass": "standard"
  },
  "cells": [
    {
      "cell_type": "markdown",
      "source": [
        "##importing necessities\n"
      ],
      "metadata": {
        "id": "3_wI4MXbyB4X"
      }
    },
    {
      "cell_type": "code",
      "execution_count": null,
      "metadata": {
        "id": "CI68DI3UkIGs"
      },
      "outputs": [],
      "source": [
        "import pandas as pd"
      ]
    },
    {
      "cell_type": "code",
      "source": [
        "import numpy as np"
      ],
      "metadata": {
        "id": "ow5xN0AVlLyw"
      },
      "execution_count": null,
      "outputs": []
    },
    {
      "cell_type": "code",
      "source": [
        "import matplotlib.pyplot as plt"
      ],
      "metadata": {
        "id": "hIp4eAZdlND8"
      },
      "execution_count": null,
      "outputs": []
    },
    {
      "cell_type": "code",
      "source": [
        "from sklearn.datasets import fetch_openml"
      ],
      "metadata": {
        "id": "F9-0PN5YlO6u"
      },
      "execution_count": null,
      "outputs": []
    },
    {
      "cell_type": "code",
      "source": [
        "from sklearn.ensemble import RandomForestClassifier"
      ],
      "metadata": {
        "id": "XCvPgX6TlQFe"
      },
      "execution_count": null,
      "outputs": []
    },
    {
      "cell_type": "code",
      "source": [
        "from sklearn.ensemble import ExtraTreesClassifier"
      ],
      "metadata": {
        "id": "5hHomLAVlUEM"
      },
      "execution_count": null,
      "outputs": []
    },
    {
      "cell_type": "code",
      "source": [
        "from sklearn.svm import SVC"
      ],
      "metadata": {
        "id": "ePpAhBKHlVRc"
      },
      "execution_count": null,
      "outputs": []
    },
    {
      "cell_type": "code",
      "source": [
        "from sklearn.ensemble import VotingClassifier"
      ],
      "metadata": {
        "id": "ERmqZ_eHlWsw"
      },
      "execution_count": null,
      "outputs": []
    },
    {
      "cell_type": "code",
      "source": [
        "from sklearn.metrics import accuracy_score"
      ],
      "metadata": {
        "id": "OKIzNw_MlX2V"
      },
      "execution_count": null,
      "outputs": []
    },
    {
      "cell_type": "code",
      "source": [
        "import pickle"
      ],
      "metadata": {
        "id": "ioVMyfLPx-J8"
      },
      "execution_count": null,
      "outputs": []
    },
    {
      "cell_type": "markdown",
      "source": [
        "##loading dataset"
      ],
      "metadata": {
        "id": "M8zgdCCDyMCk"
      }
    },
    {
      "cell_type": "code",
      "source": [
        "mnist = fetch_openml('mnist_784')"
      ],
      "metadata": {
        "id": "La_8DXGOlZAr"
      },
      "execution_count": null,
      "outputs": []
    },
    {
      "cell_type": "markdown",
      "source": [
        "##splitting of x and y "
      ],
      "metadata": {
        "id": "VMERyMsdyRAZ"
      }
    },
    {
      "cell_type": "code",
      "source": [
        "x = mnist['data']"
      ],
      "metadata": {
        "id": "xmnMqWD8la2D"
      },
      "execution_count": null,
      "outputs": []
    },
    {
      "cell_type": "code",
      "source": [
        "y = mnist['target']"
      ],
      "metadata": {
        "id": "mfCl6_t2lveH"
      },
      "execution_count": null,
      "outputs": []
    },
    {
      "cell_type": "markdown",
      "source": [
        "##splitting of training and testing data "
      ],
      "metadata": {
        "id": "xxfurjkKyXD7"
      }
    },
    {
      "cell_type": "code",
      "source": [
        "x_train, x_test, y_train, y_test = x[:60000], x[60000::], y[:60000],y[60000::]"
      ],
      "metadata": {
        "id": "E_KsAkIKlwo9"
      },
      "execution_count": null,
      "outputs": []
    },
    {
      "cell_type": "code",
      "source": [
        "##object creation "
      ],
      "metadata": {
        "id": "edW_N1W0zCX-"
      },
      "execution_count": null,
      "outputs": []
    },
    {
      "cell_type": "code",
      "source": [
        "ec = ExtraTreesClassifier(n_estimators=10)"
      ],
      "metadata": {
        "id": "nG42qiROly50"
      },
      "execution_count": null,
      "outputs": []
    },
    {
      "cell_type": "code",
      "source": [
        "rf = RandomForestClassifier(n_estimators=10)"
      ],
      "metadata": {
        "id": "Jdew8wZSl0FV"
      },
      "execution_count": null,
      "outputs": []
    },
    {
      "cell_type": "code",
      "source": [
        "sv = SVC()"
      ],
      "metadata": {
        "id": "uXPgeUkvl1Y0"
      },
      "execution_count": null,
      "outputs": []
    },
    {
      "cell_type": "markdown",
      "source": [
        "##fitting extra tree"
      ],
      "metadata": {
        "id": "6buGHJoqzVOg"
      }
    },
    {
      "cell_type": "code",
      "source": [
        "ec.fit(x_train, y_train)\n",
        "ecyp = ec.predict(x_test)\n",
        "accuracy_score(y_test, ecyp)"
      ],
      "metadata": {
        "colab": {
          "base_uri": "https://localhost:8080/"
        },
        "id": "0WLgEK12l2eG",
        "outputId": "6502b0c7-6419-4568-c868-531ae3e4d95e"
      },
      "execution_count": null,
      "outputs": [
        {
          "output_type": "execute_result",
          "data": {
            "text/plain": [
              "0.9482"
            ]
          },
          "metadata": {},
          "execution_count": 19
        }
      ]
    },
    {
      "cell_type": "code",
      "source": [
        "rf.fit(x_train, y_train)\n",
        "rfyp = rf.predict(x_test)\n",
        "accuracy_score(y_test, rfyp)"
      ],
      "metadata": {
        "colab": {
          "base_uri": "https://localhost:8080/"
        },
        "id": "WCn5Kjg7l31W",
        "outputId": "42e0adc8-ec4b-4bcc-efb4-a5cd1bc7506f"
      },
      "execution_count": null,
      "outputs": [
        {
          "output_type": "execute_result",
          "data": {
            "text/plain": [
              "0.9508"
            ]
          },
          "metadata": {},
          "execution_count": 20
        }
      ]
    },
    {
      "cell_type": "code",
      "source": [
        "sv.fit(x_train, y_train)\n",
        "svyp = sv.predict(x_test)\n",
        "accuracy_score(y_test, svyp)"
      ],
      "metadata": {
        "colab": {
          "base_uri": "https://localhost:8080/"
        },
        "id": "DtUrIZVEl-zt",
        "outputId": "13260f1c-2104-43d3-bcc3-6562357672cf"
      },
      "execution_count": null,
      "outputs": [
        {
          "output_type": "execute_result",
          "data": {
            "text/plain": [
              "0.9792"
            ]
          },
          "metadata": {},
          "execution_count": 20
        }
      ]
    },
    {
      "cell_type": "code",
      "source": [
        "voting = VotingClassifier(estimators=[('RandomForest', rf),('ExtraTrees', ec), ('svm', sv)], voting='hard')"
      ],
      "metadata": {
        "id": "LZb1E5iRqVQ0"
      },
      "execution_count": null,
      "outputs": []
    },
    {
      "cell_type": "code",
      "source": [
        "voting.fit(x_train, y_train)"
      ],
      "metadata": {
        "colab": {
          "base_uri": "https://localhost:8080/"
        },
        "id": "Ezd6BLHkqj0Q",
        "outputId": "949dd7aa-3d78-4c3a-e421-856ac82877ec"
      },
      "execution_count": null,
      "outputs": [
        {
          "output_type": "execute_result",
          "data": {
            "text/plain": [
              "VotingClassifier(estimators=[('RandomForest',\n",
              "                              RandomForestClassifier(n_estimators=10)),\n",
              "                             ('ExtraTrees',\n",
              "                              ExtraTreesClassifier(n_estimators=10)),\n",
              "                             ('svm', SVC())])"
            ]
          },
          "metadata": {},
          "execution_count": 22
        }
      ]
    },
    {
      "cell_type": "code",
      "source": [
        "VotingClassifier(estimators=[('RandomForest',RandomForestClassifier(n_estimators=10)),('ExtraTrees',ExtraTreesClassifier(n_estimators=10)),('svm', SVC())])"
      ],
      "metadata": {
        "colab": {
          "base_uri": "https://localhost:8080/"
        },
        "id": "4eYhJLE1qkmj",
        "outputId": "096b63b3-63be-4f9d-8724-b1beb96eb2cd"
      },
      "execution_count": null,
      "outputs": [
        {
          "output_type": "execute_result",
          "data": {
            "text/plain": [
              "VotingClassifier(estimators=[('RandomForest',\n",
              "                              RandomForestClassifier(n_estimators=10)),\n",
              "                             ('ExtraTrees',\n",
              "                              ExtraTreesClassifier(n_estimators=10)),\n",
              "                             ('svm', SVC())])"
            ]
          },
          "metadata": {},
          "execution_count": 23
        }
      ]
    },
    {
      "cell_type": "code",
      "source": [
        "for cl in ( rf, ec, sv, voting):\n",
        "  cl.fit(x_train, y_train)\n",
        "  yp = cl.predict(x_test)\n",
        "  print(cl.__class__.__name__, accuracy_score(y_test, yp))"
      ],
      "metadata": {
        "colab": {
          "base_uri": "https://localhost:8080/"
        },
        "id": "kWF8coAkrije",
        "outputId": "95eaf26a-4c13-4ccf-d9ed-8c639f65a7e4"
      },
      "execution_count": null,
      "outputs": [
        {
          "output_type": "stream",
          "name": "stdout",
          "text": [
            "RandomForestClassifier 0.9481\n",
            "ExtraTreesClassifier 0.9531\n",
            "SVC 0.9792\n",
            "VotingClassifier 0.9694\n"
          ]
        }
      ]
    },
    {
      "cell_type": "code",
      "source": [
        "pickle.dump(voting,open('model.pkl','wb'))"
      ],
      "metadata": {
        "id": "yq_Ww5Otr1Qw"
      },
      "execution_count": null,
      "outputs": []
    }
  ]
}